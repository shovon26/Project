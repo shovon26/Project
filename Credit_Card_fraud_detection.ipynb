{
 "cells": [
  {
   "cell_type": "code",
   "execution_count": 1,
   "metadata": {},
   "outputs": [],
   "source": [
    "import numpy as np\n",
    "import pandas as pd\n",
    "import matplotlib.pyplot as plt\n",
    "from collections import Counter\n",
    "import itertools\n",
    "\n",
    "from sklearn.preprocessing import StandardScaler\n",
    "from sklearn.model_selection import train_test_split\n",
    "from sklearn.ensemble import RandomForestClassifier\n",
    "from sklearn.tree import DecisionTreeClassifier\n",
    "from sklearn.linear_model import LogisticRegression\n",
    "from sklearn.metrics import accuracy_score"
   ]
  },
  {
   "cell_type": "code",
   "execution_count": 38,
   "metadata": {},
   "outputs": [],
   "source": [
    "input_data = pd.read_csv('/home/shovon26/Desktop/dataset_final.csv')"
   ]
  },
  {
   "cell_type": "code",
   "execution_count": 39,
   "metadata": {},
   "outputs": [
    {
     "data": {
      "text/html": [
       "<div>\n",
       "<style scoped>\n",
       "    .dataframe tbody tr th:only-of-type {\n",
       "        vertical-align: middle;\n",
       "    }\n",
       "\n",
       "    .dataframe tbody tr th {\n",
       "        vertical-align: top;\n",
       "    }\n",
       "\n",
       "    .dataframe thead th {\n",
       "        text-align: right;\n",
       "    }\n",
       "</style>\n",
       "<table border=\"1\" class=\"dataframe\">\n",
       "  <thead>\n",
       "    <tr style=\"text-align: right;\">\n",
       "      <th></th>\n",
       "      <th>type</th>\n",
       "      <th>amount</th>\n",
       "      <th>nameOrig</th>\n",
       "      <th>oldBalanceOrig</th>\n",
       "      <th>newBalanceOrig</th>\n",
       "      <th>nameDest</th>\n",
       "      <th>passwordmismatch</th>\n",
       "      <th>accountmismatch</th>\n",
       "      <th>oldBalanceDest</th>\n",
       "      <th>newBalanceDest</th>\n",
       "      <th>no_of_transactions_last_30_days</th>\n",
       "      <th>result</th>\n",
       "    </tr>\n",
       "  </thead>\n",
       "  <tbody>\n",
       "    <tr>\n",
       "      <th>0</th>\n",
       "      <td>PAYMENT</td>\n",
       "      <td>1000.0</td>\n",
       "      <td>A1291549</td>\n",
       "      <td>10000.0</td>\n",
       "      <td>9000.0</td>\n",
       "      <td>M1645890</td>\n",
       "      <td>NO</td>\n",
       "      <td>NO</td>\n",
       "      <td>0</td>\n",
       "      <td>0</td>\n",
       "      <td>10</td>\n",
       "      <td>0</td>\n",
       "    </tr>\n",
       "    <tr>\n",
       "      <th>1</th>\n",
       "      <td>PAYMENT</td>\n",
       "      <td>2000.0</td>\n",
       "      <td>A3230311</td>\n",
       "      <td>20000.0</td>\n",
       "      <td>18000.0</td>\n",
       "      <td>M2309871</td>\n",
       "      <td>NO</td>\n",
       "      <td>NO</td>\n",
       "      <td>0</td>\n",
       "      <td>0</td>\n",
       "      <td>12</td>\n",
       "      <td>0</td>\n",
       "    </tr>\n",
       "    <tr>\n",
       "      <th>2</th>\n",
       "      <td>CASH_OUT</td>\n",
       "      <td>5000.0</td>\n",
       "      <td>B4812030</td>\n",
       "      <td>7000.0</td>\n",
       "      <td>2000.0</td>\n",
       "      <td>M1219343</td>\n",
       "      <td>NO</td>\n",
       "      <td>NO</td>\n",
       "      <td>0</td>\n",
       "      <td>0</td>\n",
       "      <td>50</td>\n",
       "      <td>0</td>\n",
       "    </tr>\n",
       "    <tr>\n",
       "      <th>3</th>\n",
       "      <td>PAYMENT</td>\n",
       "      <td>2500.0</td>\n",
       "      <td>B8201671</td>\n",
       "      <td>15000.0</td>\n",
       "      <td>12500.0</td>\n",
       "      <td>M3620760</td>\n",
       "      <td>NO</td>\n",
       "      <td>NO</td>\n",
       "      <td>0</td>\n",
       "      <td>0</td>\n",
       "      <td>30</td>\n",
       "      <td>0</td>\n",
       "    </tr>\n",
       "    <tr>\n",
       "      <th>4</th>\n",
       "      <td>PAYMENT</td>\n",
       "      <td>1000.0</td>\n",
       "      <td>A4925081</td>\n",
       "      <td>1500.0</td>\n",
       "      <td>500.0</td>\n",
       "      <td>M2159296</td>\n",
       "      <td>NO</td>\n",
       "      <td>NO</td>\n",
       "      <td>0</td>\n",
       "      <td>0</td>\n",
       "      <td>20</td>\n",
       "      <td>0</td>\n",
       "    </tr>\n",
       "  </tbody>\n",
       "</table>\n",
       "</div>"
      ],
      "text/plain": [
       "       type  amount  nameOrig  oldBalanceOrig  newBalanceOrig  nameDest  \\\n",
       "0   PAYMENT  1000.0  A1291549         10000.0          9000.0  M1645890   \n",
       "1   PAYMENT  2000.0  A3230311         20000.0         18000.0  M2309871   \n",
       "2  CASH_OUT  5000.0  B4812030          7000.0          2000.0  M1219343   \n",
       "3   PAYMENT  2500.0  B8201671         15000.0         12500.0  M3620760   \n",
       "4   PAYMENT  1000.0  A4925081          1500.0           500.0  M2159296   \n",
       "\n",
       "  passwordmismatch accountmismatch  oldBalanceDest  newBalanceDest  \\\n",
       "0               NO              NO               0               0   \n",
       "1               NO              NO               0               0   \n",
       "2               NO              NO               0               0   \n",
       "3               NO              NO               0               0   \n",
       "4               NO              NO               0               0   \n",
       "\n",
       "   no_of_transactions_last_30_days  result  \n",
       "0                               10       0  \n",
       "1                               12       0  \n",
       "2                               50       0  \n",
       "3                               30       0  \n",
       "4                               20       0  "
      ]
     },
     "execution_count": 39,
     "metadata": {},
     "output_type": "execute_result"
    }
   ],
   "source": [
    "input_data.head()"
   ]
  },
  {
   "cell_type": "code",
   "execution_count": 40,
   "metadata": {},
   "outputs": [
    {
     "data": {
      "text/html": [
       "<div>\n",
       "<style scoped>\n",
       "    .dataframe tbody tr th:only-of-type {\n",
       "        vertical-align: middle;\n",
       "    }\n",
       "\n",
       "    .dataframe tbody tr th {\n",
       "        vertical-align: top;\n",
       "    }\n",
       "\n",
       "    .dataframe thead th {\n",
       "        text-align: right;\n",
       "    }\n",
       "</style>\n",
       "<table border=\"1\" class=\"dataframe\">\n",
       "  <thead>\n",
       "    <tr style=\"text-align: right;\">\n",
       "      <th></th>\n",
       "      <th>type</th>\n",
       "      <th>amount</th>\n",
       "      <th>nameOrig</th>\n",
       "      <th>oldBalanceOrig</th>\n",
       "      <th>newBalanceOrig</th>\n",
       "      <th>nameDest</th>\n",
       "      <th>passwordmismatch</th>\n",
       "      <th>accountmismatch</th>\n",
       "      <th>oldBalanceDest</th>\n",
       "      <th>newBalanceDest</th>\n",
       "      <th>no_of_transactions_last_30_days</th>\n",
       "      <th>result</th>\n",
       "    </tr>\n",
       "  </thead>\n",
       "  <tbody>\n",
       "    <tr>\n",
       "      <th>94</th>\n",
       "      <td>PAYMENT</td>\n",
       "      <td>1070.0</td>\n",
       "      <td>A8707790</td>\n",
       "      <td>3456.5</td>\n",
       "      <td>2386.5</td>\n",
       "      <td>M2334593</td>\n",
       "      <td>NO</td>\n",
       "      <td>NO</td>\n",
       "      <td>0</td>\n",
       "      <td>0</td>\n",
       "      <td>52</td>\n",
       "      <td>0</td>\n",
       "    </tr>\n",
       "    <tr>\n",
       "      <th>95</th>\n",
       "      <td>PAYMENT</td>\n",
       "      <td>3729.0</td>\n",
       "      <td>A3456221</td>\n",
       "      <td>6783.0</td>\n",
       "      <td>3054.0</td>\n",
       "      <td>M4052375</td>\n",
       "      <td>NO</td>\n",
       "      <td>NO</td>\n",
       "      <td>0</td>\n",
       "      <td>0</td>\n",
       "      <td>15</td>\n",
       "      <td>0</td>\n",
       "    </tr>\n",
       "    <tr>\n",
       "      <th>96</th>\n",
       "      <td>PAYMENT</td>\n",
       "      <td>1450.0</td>\n",
       "      <td>D9818823</td>\n",
       "      <td>3490.0</td>\n",
       "      <td>2040.0</td>\n",
       "      <td>M3249781</td>\n",
       "      <td>NO</td>\n",
       "      <td>NO</td>\n",
       "      <td>0</td>\n",
       "      <td>0</td>\n",
       "      <td>32</td>\n",
       "      <td>0</td>\n",
       "    </tr>\n",
       "    <tr>\n",
       "      <th>97</th>\n",
       "      <td>PAYMENT</td>\n",
       "      <td>5460.0</td>\n",
       "      <td>D1123142</td>\n",
       "      <td>10000.0</td>\n",
       "      <td>4540.0</td>\n",
       "      <td>M1348752</td>\n",
       "      <td>NO</td>\n",
       "      <td>NO</td>\n",
       "      <td>0</td>\n",
       "      <td>0</td>\n",
       "      <td>3</td>\n",
       "      <td>0</td>\n",
       "    </tr>\n",
       "    <tr>\n",
       "      <th>98</th>\n",
       "      <td>PAYMENT</td>\n",
       "      <td>7890.0</td>\n",
       "      <td>D8882112</td>\n",
       "      <td>8000.0</td>\n",
       "      <td>110.0</td>\n",
       "      <td>M6578161</td>\n",
       "      <td>NO</td>\n",
       "      <td>NO</td>\n",
       "      <td>0</td>\n",
       "      <td>0</td>\n",
       "      <td>5</td>\n",
       "      <td>0</td>\n",
       "    </tr>\n",
       "  </tbody>\n",
       "</table>\n",
       "</div>"
      ],
      "text/plain": [
       "       type  amount  nameOrig  oldBalanceOrig  newBalanceOrig  nameDest  \\\n",
       "94  PAYMENT  1070.0  A8707790          3456.5          2386.5  M2334593   \n",
       "95  PAYMENT  3729.0  A3456221          6783.0          3054.0  M4052375   \n",
       "96  PAYMENT  1450.0  D9818823          3490.0          2040.0  M3249781   \n",
       "97  PAYMENT  5460.0  D1123142         10000.0          4540.0  M1348752   \n",
       "98  PAYMENT  7890.0  D8882112          8000.0           110.0  M6578161   \n",
       "\n",
       "   passwordmismatch accountmismatch  oldBalanceDest  newBalanceDest  \\\n",
       "94               NO              NO               0               0   \n",
       "95               NO              NO               0               0   \n",
       "96               NO              NO               0               0   \n",
       "97               NO              NO               0               0   \n",
       "98               NO              NO               0               0   \n",
       "\n",
       "    no_of_transactions_last_30_days  result  \n",
       "94                               52       0  \n",
       "95                               15       0  \n",
       "96                               32       0  \n",
       "97                                3       0  \n",
       "98                                5       0  "
      ]
     },
     "execution_count": 40,
     "metadata": {},
     "output_type": "execute_result"
    }
   ],
   "source": [
    "input_data.tail()"
   ]
  },
  {
   "cell_type": "code",
   "execution_count": 41,
   "metadata": {},
   "outputs": [
    {
     "name": "stdout",
     "output_type": "stream",
     "text": [
      "<class 'pandas.core.frame.DataFrame'>\n",
      "RangeIndex: 99 entries, 0 to 98\n",
      "Data columns (total 12 columns):\n",
      "type                               99 non-null object\n",
      "amount                             99 non-null float64\n",
      "nameOrig                           99 non-null object\n",
      "oldBalanceOrig                     99 non-null float64\n",
      "newBalanceOrig                     99 non-null float64\n",
      "nameDest                           99 non-null object\n",
      "passwordmismatch                   99 non-null object\n",
      "accountmismatch                    99 non-null object\n",
      "oldBalanceDest                     99 non-null int64\n",
      "newBalanceDest                     99 non-null int64\n",
      "no_of_transactions_last_30_days    99 non-null int64\n",
      "result                             99 non-null int64\n",
      "dtypes: float64(3), int64(4), object(5)\n",
      "memory usage: 9.4+ KB\n"
     ]
    }
   ],
   "source": [
    "input_data.info()"
   ]
  },
  {
   "cell_type": "code",
   "execution_count": 42,
   "metadata": {},
   "outputs": [
    {
     "data": {
      "text/plain": [
       "type                               0\n",
       "amount                             0\n",
       "nameOrig                           0\n",
       "oldBalanceOrig                     0\n",
       "newBalanceOrig                     0\n",
       "nameDest                           0\n",
       "passwordmismatch                   0\n",
       "accountmismatch                    0\n",
       "oldBalanceDest                     0\n",
       "newBalanceDest                     0\n",
       "no_of_transactions_last_30_days    0\n",
       "result                             0\n",
       "dtype: int64"
      ]
     },
     "execution_count": 42,
     "metadata": {},
     "output_type": "execute_result"
    }
   ],
   "source": [
    "input_data.isnull().sum()"
   ]
  },
  {
   "cell_type": "code",
   "execution_count": 43,
   "metadata": {},
   "outputs": [
    {
     "data": {
      "text/plain": [
       "0    92\n",
       "1     7\n",
       "Name: result, dtype: int64"
      ]
     },
     "execution_count": 43,
     "metadata": {},
     "output_type": "execute_result"
    }
   ],
   "source": [
    "input_data['result'].value_counts()"
   ]
  },
  {
   "cell_type": "code",
   "execution_count": 44,
   "metadata": {},
   "outputs": [
    {
     "data": {
      "text/plain": [
       "count       99.000000\n",
       "mean      5091.436869\n",
       "std       7065.883804\n",
       "min        100.000000\n",
       "25%        769.625000\n",
       "50%       2890.750000\n",
       "75%       6000.000000\n",
       "max      50000.000000\n",
       "Name: amount, dtype: float64"
      ]
     },
     "execution_count": 44,
     "metadata": {},
     "output_type": "execute_result"
    }
   ],
   "source": [
    "input_data[\"amount\"].describe()"
   ]
  },
  {
   "cell_type": "code",
   "execution_count": 45,
   "metadata": {},
   "outputs": [
    {
     "data": {
      "text/plain": [
       "count    99.000000\n",
       "mean      0.070707\n",
       "std       0.257639\n",
       "min       0.000000\n",
       "25%       0.000000\n",
       "50%       0.000000\n",
       "75%       0.000000\n",
       "max       1.000000\n",
       "Name: result, dtype: float64"
      ]
     },
     "execution_count": 45,
     "metadata": {},
     "output_type": "execute_result"
    }
   ],
   "source": [
    "input_data[\"result\"].describe()"
   ]
  },
  {
   "cell_type": "code",
   "execution_count": 46,
   "metadata": {},
   "outputs": [
    {
     "data": {
      "text/plain": [
       "0     0\n",
       "1     0\n",
       "2     0\n",
       "3     0\n",
       "4     0\n",
       "5     0\n",
       "6     0\n",
       "7     0\n",
       "8     0\n",
       "9     0\n",
       "10    0\n",
       "11    0\n",
       "12    0\n",
       "13    0\n",
       "14    0\n",
       "15    0\n",
       "16    0\n",
       "17    0\n",
       "18    0\n",
       "19    1\n",
       "20    0\n",
       "21    0\n",
       "22    0\n",
       "23    0\n",
       "24    1\n",
       "25    0\n",
       "26    0\n",
       "27    0\n",
       "28    0\n",
       "29    0\n",
       "     ..\n",
       "69    0\n",
       "70    0\n",
       "71    1\n",
       "72    0\n",
       "73    1\n",
       "74    0\n",
       "75    0\n",
       "76    0\n",
       "77    0\n",
       "78    0\n",
       "79    0\n",
       "80    0\n",
       "81    0\n",
       "82    0\n",
       "83    0\n",
       "84    1\n",
       "85    0\n",
       "86    0\n",
       "87    0\n",
       "88    0\n",
       "89    0\n",
       "90    0\n",
       "91    0\n",
       "92    1\n",
       "93    0\n",
       "94    0\n",
       "95    0\n",
       "96    0\n",
       "97    0\n",
       "98    0\n",
       "Name: result, Length: 99, dtype: int64"
      ]
     },
     "execution_count": 46,
     "metadata": {},
     "output_type": "execute_result"
    }
   ],
   "source": [
    "input_data.result"
   ]
  },
  {
   "cell_type": "code",
   "execution_count": 48,
   "metadata": {},
   "outputs": [],
   "source": [
    "legit = input_data[input_data.result == 0]\n",
    "fraud = input_data[input_data.result == 1]"
   ]
  },
  {
   "cell_type": "code",
   "execution_count": 49,
   "metadata": {},
   "outputs": [
    {
     "name": "stdout",
     "output_type": "stream",
     "text": [
      "(92, 12)\n",
      "(7, 12)\n"
     ]
    }
   ],
   "source": [
    "print(legit.shape)\n",
    "print(fraud.shape)"
   ]
  },
  {
   "cell_type": "code",
   "execution_count": 50,
   "metadata": {},
   "outputs": [
    {
     "data": {
      "text/plain": [
       "count       92.000000\n",
       "mean      4431.437500\n",
       "std       5261.587787\n",
       "min        100.000000\n",
       "25%        575.000000\n",
       "50%       2530.000000\n",
       "75%       6000.000000\n",
       "max      30000.000000\n",
       "Name: amount, dtype: float64"
      ]
     },
     "execution_count": 50,
     "metadata": {},
     "output_type": "execute_result"
    }
   ],
   "source": [
    "legit.amount.describe()"
   ]
  },
  {
   "cell_type": "code",
   "execution_count": 51,
   "metadata": {},
   "outputs": [
    {
     "data": {
      "text/plain": [
       "count        7.000000\n",
       "mean     13765.714286\n",
       "std      17353.046665\n",
       "min        800.000000\n",
       "25%       3500.000000\n",
       "50%       5000.000000\n",
       "75%      16780.000000\n",
       "max      50000.000000\n",
       "Name: amount, dtype: float64"
      ]
     },
     "execution_count": 51,
     "metadata": {},
     "output_type": "execute_result"
    }
   ],
   "source": [
    "fraud.amount.describe()"
   ]
  },
  {
   "cell_type": "code",
   "execution_count": 52,
   "metadata": {},
   "outputs": [
    {
     "data": {
      "text/html": [
       "<div>\n",
       "<style scoped>\n",
       "    .dataframe tbody tr th:only-of-type {\n",
       "        vertical-align: middle;\n",
       "    }\n",
       "\n",
       "    .dataframe tbody tr th {\n",
       "        vertical-align: top;\n",
       "    }\n",
       "\n",
       "    .dataframe thead th {\n",
       "        text-align: right;\n",
       "    }\n",
       "</style>\n",
       "<table border=\"1\" class=\"dataframe\">\n",
       "  <thead>\n",
       "    <tr style=\"text-align: right;\">\n",
       "      <th></th>\n",
       "      <th>amount</th>\n",
       "      <th>oldBalanceOrig</th>\n",
       "      <th>newBalanceOrig</th>\n",
       "      <th>oldBalanceDest</th>\n",
       "      <th>newBalanceDest</th>\n",
       "      <th>no_of_transactions_last_30_days</th>\n",
       "    </tr>\n",
       "    <tr>\n",
       "      <th>result</th>\n",
       "      <th></th>\n",
       "      <th></th>\n",
       "      <th></th>\n",
       "      <th></th>\n",
       "      <th></th>\n",
       "      <th></th>\n",
       "    </tr>\n",
       "  </thead>\n",
       "  <tbody>\n",
       "    <tr>\n",
       "      <th>0</th>\n",
       "      <td>4431.437500</td>\n",
       "      <td>8646.125000</td>\n",
       "      <td>4214.687500</td>\n",
       "      <td>0.0</td>\n",
       "      <td>0.000000</td>\n",
       "      <td>41.663043</td>\n",
       "    </tr>\n",
       "    <tr>\n",
       "      <th>1</th>\n",
       "      <td>13765.714286</td>\n",
       "      <td>14714.285714</td>\n",
       "      <td>948.571429</td>\n",
       "      <td>0.0</td>\n",
       "      <td>3508.571429</td>\n",
       "      <td>76.285714</td>\n",
       "    </tr>\n",
       "  </tbody>\n",
       "</table>\n",
       "</div>"
      ],
      "text/plain": [
       "              amount  oldBalanceOrig  newBalanceOrig  oldBalanceDest  \\\n",
       "result                                                                 \n",
       "0        4431.437500     8646.125000     4214.687500             0.0   \n",
       "1       13765.714286    14714.285714      948.571429             0.0   \n",
       "\n",
       "        newBalanceDest  no_of_transactions_last_30_days  \n",
       "result                                                   \n",
       "0             0.000000                        41.663043  \n",
       "1          3508.571429                        76.285714  "
      ]
     },
     "execution_count": 52,
     "metadata": {},
     "output_type": "execute_result"
    }
   ],
   "source": [
    "input_data.groupby('result').mean()"
   ]
  },
  {
   "cell_type": "code",
   "execution_count": 55,
   "metadata": {},
   "outputs": [
    {
     "name": "stdout",
     "output_type": "stream",
     "text": [
      "Number of Legit Transactions :  92\n",
      "Number of Fraud Transactions :  7\n",
      "Percentage of Fraud Transaction :  7.07070707070707\n"
     ]
    }
   ],
   "source": [
    "legit = len(input_data[input_data.result == 0])\n",
    "fraud = len(input_data[input_data.result == 1])\n",
    "fraud_percent = (fraud / (fraud + legit)) * 100\n",
    "\n",
    "print(\"Number of Legit Transactions : \", legit)\n",
    "print(\"Number of Fraud Transactions : \", fraud)\n",
    "print(\"Percentage of Fraud Transaction : \", fraud_percent)"
   ]
  },
  {
   "cell_type": "code",
   "execution_count": 58,
   "metadata": {},
   "outputs": [
    {
     "data": {
      "image/png": "[encoded data removed]",
      "text/plain": [
       "<Figure size 432x288 with 1 Axes>"
      ]
     },
     "metadata": {
      "needs_background": "light"
     },
     "output_type": "display_data"
    }
   ],
   "source": [
    "#Plot using matplotlib.pyplot\n",
    "\n",
    "labels = [\"LEGIT\", \"FRAUD\"]\n",
    "count_results = input_data['result'].value_counts()\n",
    "#count_results = input_data['result'].value_counts(input_data['result'], sort = True)\n",
    "count_results.plot(kind = \"bar\", rot = 0)\n",
    "plt.title(\"Visualization\")\n",
    "plt.ylabel('Count')\n",
    "plt.xlabel('Class')\n",
    "plt.show()"
   ]
  },
  {
   "cell_type": "code",
   "execution_count": 1,
   "metadata": {},
   "outputs": [
    {
     "ename": "NameError",
     "evalue": "name 'legit' is not defined",
     "output_type": "error",
     "traceback": [
      "\u001b[0;31m---------------------------------------------------------------------------\u001b[0m",
      "\u001b[0;31mNameError\u001b[0m                                 Traceback (most recent call last)",
      "\u001b[0;32m<ipython-input-1-416b32bf8cf7>\u001b[0m in \u001b[0;36m<module>\u001b[0;34m\u001b[0m\n\u001b[0;32m----> 1\u001b[0;31m \u001b[0mlegit_sample\u001b[0m \u001b[0;34m=\u001b[0m \u001b[0mlegit\u001b[0m\u001b[0;34m.\u001b[0m\u001b[0msample\u001b[0m\u001b[0;34m(\u001b[0m\u001b[0mn\u001b[0m \u001b[0;34m==\u001b[0m \u001b[0;36m7\u001b[0m\u001b[0;34m)\u001b[0m\u001b[0;34m\u001b[0m\u001b[0;34m\u001b[0m\u001b[0m\n\u001b[0m",
      "\u001b[0;31mNameError\u001b[0m: name 'legit' is not defined"
     ]
    }
   ],
   "source": [
    "legit_sample = legit.sample(n == 7)"
   ]
  },
  {
   "cell_type": "code",
   "execution_count": null,
   "metadata": {},
   "outputs": [],
   "source": []
  }
 ],
 "metadata": {
  "kernelspec": {
   "display_name": "Python 3",
   "language": "python",
   "name": "python3"
  },
  "language_info": {
   "codemirror_mode": {
    "name": "ipython",
    "version": 3
   },
   "file_extension": ".py",
   "mimetype": "text/x-python",
   "name": "python",
   "nbconvert_exporter": "python",
   "pygments_lexer": "ipython3",
   "version": "3.8.10"
  }
 },
 "nbformat": 4,
 "nbformat_minor": 4
}
